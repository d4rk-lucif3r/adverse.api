{
 "cells": [
  {
   "cell_type": "code",
   "execution_count": 47,
   "metadata": {},
   "outputs": [],
   "source": [
    "import requests\n",
    "import json\n"
   ]
  },
  {
   "cell_type": "code",
   "execution_count": 101,
   "metadata": {},
   "outputs": [],
   "source": [
    "news = requests.get('http://0.0.0.0:5000/adverseapi', json={\n",
    "    \"api\": \"35622ca4d6fc49c6b811df1e9fc10de4\",\n",
    "    \"mode\": \"realtime\",\n",
    "    \"keywords\": \"CBI, enforcement directorate, money laundering\",\n",
    "    \"exclude\": \"\",\n",
    "    \"excludeorg\": \"national investigation Agency\",\n",
    "    \"urltobesearched\": \"https://www.thehindu.com/news/national/former-maharashtra-minister-anil-deshmukh-files-for-bail-in-money-laundering-case/article38107123.ece\"\n",
    "})\n"
   ]
  },
  {
   "cell_type": "code",
   "execution_count": 102,
   "metadata": {},
   "outputs": [],
   "source": [
    "# news.text"
   ]
  },
  {
   "cell_type": "code",
   "execution_count": 103,
   "metadata": {},
   "outputs": [],
   "source": [
    "results = json.loads(news.text)"
   ]
  },
  {
   "cell_type": "code",
   "execution_count": 104,
   "metadata": {},
   "outputs": [
    {
     "data": {
      "text/plain": [
       "[{'Article_Date': '',\n",
       "  'City_State_mentioned_under_the_news': 'Maharashtra | Mumbai | Arthur Road Jail',\n",
       "  'City_of_News_Paper': 'National',\n",
       "  'HDFC_Bank_Name_under_News_Article': 'No',\n",
       "  'Key_word_Used_foruuidentify_the_article': 'CBI, enforcement directorate, money laundering',\n",
       "  'Organization_Name_mentioned_in_the_news': 'Court | Enforcement Directorate | The Prevention Of Money Laundering Act Court | Ed S | Mumbai Police | The High Court | High Court | The Enforcement Directorate | Home',\n",
       "  'Person_Name_mentioned_in_the_news': 'Sachin Vaze | Param Bir Singh’S | Desukh | Uddv Thackeray | The Prevention Of Money Laundering Act Court | The High Court | Anil Deshmukh | Deshmukh’S | Uddhav Thackeray | Ed S | Mumbai Police | Aniket Nikam',\n",
       "  'Source_Name': 'The Hindu',\n",
       "  'Source_of_Info': 'Newspaper',\n",
       "  'Web_link_of_news': 'https://www.thehindu.com/news/national/former-maharashtra-minister-anil-deshmukh-files-for-bail-in-money-laundering-case/article38107123.ece',\n",
       "  'created_date': '2022-01-06 08:54:34',\n",
       "  'exclude': '',\n",
       "  'uuid': 'ce29426b-3374-4857-8358-8edca6083f89'}]"
      ]
     },
     "execution_count": 104,
     "metadata": {},
     "output_type": "execute_result"
    }
   ],
   "source": [
    "results['search_results']\n"
   ]
  },
  {
   "cell_type": "code",
   "execution_count": null,
   "metadata": {},
   "outputs": [],
   "source": []
  }
 ],
 "metadata": {
  "interpreter": {
   "hash": "072a7d29b7cbc2e45f6dd349b6affb25a9ca8207ee59b08c8833eb390261108a"
  },
  "kernelspec": {
   "display_name": "Python 3.8.10 64-bit ('lucif3r-venv': venv)",
   "language": "python",
   "name": "python3"
  },
  "language_info": {
   "codemirror_mode": {
    "name": "ipython",
    "version": 3
   },
   "file_extension": ".py",
   "mimetype": "text/x-python",
   "name": "python",
   "nbconvert_exporter": "python",
   "pygments_lexer": "ipython3",
   "version": "3.8.10"
  },
  "orig_nbformat": 4
 },
 "nbformat": 4,
 "nbformat_minor": 2
}
