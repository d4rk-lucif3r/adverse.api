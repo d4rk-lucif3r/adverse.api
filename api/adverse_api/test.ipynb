{
 "cells": [
  {
   "cell_type": "code",
   "execution_count": 29,
   "metadata": {},
   "outputs": [],
   "source": [
    "import requests\n",
    "import json"
   ]
  },
  {
   "cell_type": "code",
   "execution_count": 43,
   "metadata": {},
   "outputs": [],
   "source": [
    "news = requests.get('http://0.0.0.0:5000/adverseapi', json={\n",
    "    \"api\": \"35622ca4d6fc49c6b811df1e9fc10de4\",\n",
    "    \"mode\": \"manual\",\n",
    "    \"date\": \"2022-02-03 13:00:00\"\n",
    "})\n",
    "# news = requests.get('http://0.0.0.0:5000/adverseapi', json={\n",
    "#     \"api\": \"35622ca4d6fc49c6b811df1e9fc10de4\",\n",
    "#     \"mode\": \"realtime\",\n",
    "#     \"keywords\": \"money laundering, forging, terrorism, fraud, Prosecution ,education , CBI,grant , drug arrest, NIA, terror, narcotics,slogans ,sex racket, smuggling, National Investigation Agency, assets, bitcoin, taxes\",\n",
    "#     \"exclude\": \"\",\n",
    "#     \"excludeorg\": \"\",\n",
    "#     \"urltobesearched\": \"https://www.ndtv.com/delhi-news/delhi-woman-posed-as-uk-resident-duped-people-online-police-2737128\"\n",
    "#     })\n",
    "results = json.loads(news.text)"
   ]
  },
  {
   "cell_type": "code",
   "execution_count": 42,
   "metadata": {},
   "outputs": [
    {
     "data": {
      "text/plain": [
       "[]"
      ]
     },
     "execution_count": 42,
     "metadata": {},
     "output_type": "execute_result"
    }
   ],
   "source": [
    "results['search_results']"
   ]
  }
 ],
 "metadata": {
  "interpreter": {
   "hash": "072a7d29b7cbc2e45f6dd349b6affb25a9ca8207ee59b08c8833eb390261108a"
  },
  "kernelspec": {
   "display_name": "Python 3.8.10 64-bit ('lucif3r-venv': venv)",
   "language": "python",
   "name": "python3"
  },
  "language_info": {
   "codemirror_mode": {
    "name": "ipython",
    "version": 3
   },
   "file_extension": ".py",
   "mimetype": "text/x-python",
   "name": "python",
   "nbconvert_exporter": "python",
   "pygments_lexer": "ipython3",
   "version": "3.8.10"
  },
  "orig_nbformat": 4
 },
 "nbformat": 4,
 "nbformat_minor": 2
}
