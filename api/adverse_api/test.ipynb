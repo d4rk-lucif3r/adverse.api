{
 "cells": [
  {
   "cell_type": "code",
   "execution_count": 43,
   "metadata": {},
   "outputs": [],
   "source": [
    "import requests\n",
    "import json"
   ]
  },
  {
   "cell_type": "code",
   "execution_count": 44,
   "metadata": {},
   "outputs": [],
   "source": [
    "# news = requests.get('http://0.0.0.0:5000/adverseapi', json={\n",
    "#     \"api\": \"35622ca4d6fc49c6b811df1e9fc10de4\",\n",
    "#     \"mode\": \"manual\",\n",
    "#     \"date\": \"2022-01-11 13:00:00\"\n",
    "# })\n",
    "news = requests.get('http://0.0.0.0:5000/adverseapi', json={\n",
    "    \"api\": \"35622ca4d6fc49c6b811df1e9fc10de4\",\n",
    "    \"mode\": \"realtime\",\n",
    "    \"keywords\": \"money laundering, CBI, drug arrest, NIA, terror, narcotics, sex racket, smuggling, National Investigation Agency\",\n",
    "    \"exclude\": \"\",\n",
    "    \"excludeorg\": \"\",\n",
    "    \"urltobesearched\": \"https://timesofindia.indiatimes.com/city/hyderabad/telangana-kt-rama-rao-slams-jp-nadda-calls-bjp-president-liar/articleshow/88723146.cms\"\n",
    "})\n",
    "results = json.loads(news.text)"
   ]
  },
  {
   "cell_type": "code",
   "execution_count": 45,
   "metadata": {},
   "outputs": [
    {
     "data": {
      "text/plain": [
       "[{'Article_Date': '',\n",
       "  'City_State_mentioned_under_the_news': 'Secunderabad Cantonment | Uttar Pradesh | HYDERABAD | Telangana | Punjab',\n",
       "  'City_of_News_Paper': 'Hyderabad',\n",
       "  'HDFC_Bank_Name_under_News_Article': 'No',\n",
       "  'Key_word_Used_foruuidentify_the_article': 'NIA, CBI',\n",
       "  'Organization_Name_mentioned_in_the_news': 'Union | bakwas jumla party | saffron party | BCCI | NDA | TRS | BJP',\n",
       "  'Person_Name_mentioned_in_the_news': 'Bandi | bakwas jumla party | Kaleshwaram | saffron party | Jayashree Banerjee | BCCI | NDA | TRS | Narendra Modi | K Chandrasekhar Rao | JP Nadda | Amit Shah | BJP | KT Rama Rao',\n",
       "  'Source_Name': 'The Times Of India',\n",
       "  'Source_of_Info': 'Newspaper',\n",
       "  'Web_link_of_news': 'https://timesofindia.indiatimes.com/city/hyderabad/telangana-kt-rama-rao-slams-jp-nadda-calls-bjp-president-liar/articleshow/88723146.cms',\n",
       "  'created_date': '2022-01-18 12:47:17',\n",
       "  'exclude': '',\n",
       "  'uuid': '080d5f0a-d743-4e68-a412-40c68da026ad'}]"
      ]
     },
     "execution_count": 45,
     "metadata": {},
     "output_type": "execute_result"
    }
   ],
   "source": [
    "results['search_results']"
   ]
  }
 ],
 "metadata": {
  "interpreter": {
   "hash": "072a7d29b7cbc2e45f6dd349b6affb25a9ca8207ee59b08c8833eb390261108a"
  },
  "kernelspec": {
   "display_name": "Python 3.8.10 64-bit ('lucif3r-venv': venv)",
   "language": "python",
   "name": "python3"
  },
  "language_info": {
   "codemirror_mode": {
    "name": "ipython",
    "version": 3
   },
   "file_extension": ".py",
   "mimetype": "text/x-python",
   "name": "python",
   "nbconvert_exporter": "python",
   "pygments_lexer": "ipython3",
   "version": "3.8.10"
  },
  "orig_nbformat": 4
 },
 "nbformat": 4,
 "nbformat_minor": 2
}
