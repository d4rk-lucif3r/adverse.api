{
 "cells": [
  {
   "cell_type": "code",
   "execution_count": 1,
   "metadata": {},
   "outputs": [],
   "source": [
    "import requests\n",
    "import json"
   ]
  },
  {
   "cell_type": "code",
   "execution_count": 4,
   "metadata": {},
   "outputs": [],
   "source": [
    "# news = requests.get('http://0.0.0.0:5000/adverseapi', json={\n",
    "#     \"api\": \"35622ca4d6fc49c6b811df1e9fc10de4\",\n",
    "#     \"mode\": \"manual\",\n",
    "#     \"date\": \"2022-01-16 13:00:00\"\n",
    "# })\n",
    "news = requests.get('http://0.0.0.0:5000/adverseapi', json={\n",
    "    \"api\": \"35622ca4d6fc49c6b811df1e9fc10de4\",\n",
    "    \"mode\": \"realtime\",\n",
    "    \"keywords\": \"money laundering, CBI,grant , drug arrest, NIA, terror, narcotics, sex racket, smuggling, National Investigation Agency, assets, bitcoin, taxes\",\n",
    "    \"exclude\": \"\",\n",
    "    \"excludeorg\": \"\",\n",
    "    \"urltobesearched\": \"https://indianexpress.com/article/cities/mumbai/anil-deshmukh-moves-bombay-hc-seeking-quashing-of-ed-summons-in-corruption-case-7484444/\"\n",
    "})\n",
    "results = json.loads(news.text)"
   ]
  },
  {
   "cell_type": "code",
   "execution_count": 5,
   "metadata": {},
   "outputs": [
    {
     "data": {
      "text/plain": [
       "[{'Article_Date': 'Thu, 02 Sep 2021 15:04:05 GMT',\n",
       "  'City_State_mentioned_under_the_news': 'Maharashtra | Mumbai',\n",
       "  'City_of_News_Paper': 'National',\n",
       "  'HDFC_Bank_Name_under_News_Article': 'No',\n",
       "  'Key_word_Used_foruuidentify_the_article': 'grant',\n",
       "  'Organization_Name_mentioned_in_the_news': 'Enforcement Directorate ED | Express Photo File | Supreme Court | Bombay HC | Justice | https | Bombay High Court',\n",
       "  'Person_Name_mentioned_in_the_news': 'Omkar Gokhale | Enforcement Directorate ED | Express Photo File | Supreme Court | Bombay HC | Justice | Revati Mohite-Dere | https | Anil Deshmukh’s | Bombay High Court',\n",
       "  'Source_Name': 'The Indian Express',\n",
       "  'Source_of_Info': 'Newspaper',\n",
       "  'Web_link_of_news': 'https://indianexpress.com/article/cities/mumbai/anil-deshmukh-moves-bombay-hc-seeking-quashing-of-ed-summons-in-corruption-case-7484444/',\n",
       "  'created_date': '2022-01-20 09:04:04',\n",
       "  'exclude': '',\n",
       "  'uuid': '33c2e8f5-33b9-4474-8be4-c4793ea0d66c'}]"
      ]
     },
     "execution_count": 5,
     "metadata": {},
     "output_type": "execute_result"
    }
   ],
   "source": [
    "results['search_results']"
   ]
  }
 ],
 "metadata": {
  "interpreter": {
   "hash": "072a7d29b7cbc2e45f6dd349b6affb25a9ca8207ee59b08c8833eb390261108a"
  },
  "kernelspec": {
   "display_name": "Python 3.8.10 64-bit ('lucif3r-venv': venv)",
   "language": "python",
   "name": "python3"
  },
  "language_info": {
   "codemirror_mode": {
    "name": "ipython",
    "version": 3
   },
   "file_extension": ".py",
   "mimetype": "text/x-python",
   "name": "python",
   "nbconvert_exporter": "python",
   "pygments_lexer": "ipython3",
   "version": "3.8.10"
  },
  "orig_nbformat": 4
 },
 "nbformat": 4,
 "nbformat_minor": 2
}
