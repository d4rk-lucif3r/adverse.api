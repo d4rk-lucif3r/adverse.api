{
 "cells": [
  {
   "cell_type": "code",
   "execution_count": 27,
   "metadata": {},
   "outputs": [],
   "source": [
    "import requests\n",
    "import json"
   ]
  },
  {
   "cell_type": "code",
   "execution_count": 28,
   "metadata": {},
   "outputs": [],
   "source": [
    "# news = requests.get('http://0.0.0.0:5000/adverseapi', json={\n",
    "#     \"api\": \"35622ca4d6fc49c6b811df1e9fc10de4\",\n",
    "#     \"mode\": \"manual\",\n",
    "#     \"date\": \"2022-01-11 13:00:00\"\n",
    "# })\n",
    "news = requests.get('http://0.0.0.0:5000/adverseapi', json={\n",
    "    \"api\": \"35622ca4d6fc49c6b811df1e9fc10de4\",\n",
    "    \"mode\": \"realtime\",\n",
    "    \"keywords\": \"money laundering, CBI, drug arrest, NIA, terror, narcotics, sex racket, smuggling, National Investigation Agency\",\n",
    "    \"exclude\": \"\",\n",
    "    \"excludeorg\": \"\",\n",
    "    \"urltobesearched\": \"https://indianexpress.com/article/cities/chandigarh/sit-can-question-dera-head-again-after-informing-rohtak-jail-officials-high-court-7710700/\"\n",
    "})\n",
    "results = json.loads(news.text)"
   ]
  },
  {
   "cell_type": "code",
   "execution_count": 29,
   "metadata": {},
   "outputs": [
    {
     "data": {
      "text/plain": [
       "[{'Article_Date': 'Fri, 07 Jan 2022 01:09:10 GMT',\n",
       "  'City_State_mentioned_under_the_news': 'Chandigarh | Delhi | Panchkula | Punjab | Rohtak',\n",
       "  'City_of_News_Paper': 'National',\n",
       "  'HDFC_Bank_Name_under_News_Article': 'No',\n",
       "  'Key_word_Used_foruuidentify_the_article': 'CBI',\n",
       "  'Organization_Name_mentioned_in_the_news': 'Advocate General | Haryana High Court | CBI | Express News Service | Newsguard | Punjab Police SIT | Assembly | Indian Express App | SIT | Bench | Faridkot Courts | Justice | Chandigarh News 1 Chandigarh',\n",
       "  'Person_Name_mentioned_in_the_news': 'Haryana High Court | Advocate General | Faridkot Courts | Punjab Police SIT | Gurmeet Ram Rahim Singh | Dera Sacha Sauda | 6:39:10 | Justice | Chandigarh News 1 Chandigarh | Arvind Singh Sangwan | CBI | Express News Service | Newsguard | Sunaria Jail',\n",
       "  'Source_Name': 'The Indian Express',\n",
       "  'Source_of_Info': 'Newspaper',\n",
       "  'Web_link_of_news': 'https://indianexpress.com/article/cities/chandigarh/sit-can-question-dera-head-again-after-informing-rohtak-jail-officials-high-court-7710700/',\n",
       "  'created_date': '2022-01-17 11:47:12',\n",
       "  'exclude': '',\n",
       "  'uuid': 'ce8ea214-dec3-468e-be93-e6ab8561014c'}]"
      ]
     },
     "execution_count": 29,
     "metadata": {},
     "output_type": "execute_result"
    }
   ],
   "source": [
    "results['search_results']"
   ]
  }
 ],
 "metadata": {
  "interpreter": {
   "hash": "072a7d29b7cbc2e45f6dd349b6affb25a9ca8207ee59b08c8833eb390261108a"
  },
  "kernelspec": {
   "display_name": "Python 3.8.10 64-bit ('lucif3r-venv': venv)",
   "language": "python",
   "name": "python3"
  },
  "language_info": {
   "codemirror_mode": {
    "name": "ipython",
    "version": 3
   },
   "file_extension": ".py",
   "mimetype": "text/x-python",
   "name": "python",
   "nbconvert_exporter": "python",
   "pygments_lexer": "ipython3",
   "version": "3.8.10"
  },
  "orig_nbformat": 4
 },
 "nbformat": 4,
 "nbformat_minor": 2
}
