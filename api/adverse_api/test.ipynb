{
 "cells": [
  {
   "cell_type": "code",
   "execution_count": 40,
   "metadata": {},
   "outputs": [],
   "source": [
    "import requests\n",
    "import json"
   ]
  },
  {
   "cell_type": "code",
   "execution_count": 41,
   "metadata": {},
   "outputs": [],
   "source": [
    "# news = requests.get('http://0.0.0.0:5000/adverseapi', json={\n",
    "#     \"api\": \"35622ca4d6fc49c6b811df1e9fc10de4\",\n",
    "#     \"mode\": \"manual\",\n",
    "#     \"date\": \"2022-01-11 13:00:00\"\n",
    "# })\n",
    "news = requests.get('http://0.0.0.0:5000/adverseapi', json={\n",
    "    \"api\": \"35622ca4d6fc49c6b811df1e9fc10de4\",\n",
    "    \"mode\": \"realtime\",\n",
    "    \"keywords\": \"money laundering, CBI, drug arrest, NIA, terror, narcotics, sex racket, smuggling, National Investigation Agency\",\n",
    "    \"exclude\": \"\",\n",
    "    \"excludeorg\": \"\",\n",
    "    \"urltobesearched\": \"https://www.thehindu.com/news/cities/Hyderabad/police-to-focus-on-drugs-demand-chain-too/article38157619.ece\"\n",
    "})\n",
    "results = json.loads(news.text)"
   ]
  },
  {
   "cell_type": "code",
   "execution_count": 42,
   "metadata": {},
   "outputs": [
    {
     "data": {
      "text/plain": [
       "[{'Article_Date': '',\n",
       "  'City_State_mentioned_under_the_news': 'Chaderghat | Punjagutta | Gujarat | Vapi | OYO Hotel | Meerpet | Najbul | India | Mumbai | Dammaiguda | HyderabadAnand | North and West',\n",
       "  'City_of_News_Paper': 'National',\n",
       "  'HDFC_Bank_Name_under_News_Article': 'No',\n",
       "  'Key_word_Used_foruuidentify_the_article': 'drug arrest',\n",
       "  'Organization_Name_mentioned_in_the_news': 'coke | C.V | Commissioner’s Task Force | SIM | Task Force | pan India | inter-State',\n",
       "  'Person_Name_mentioned_in_the_news': 'K Nageswar Rao | K Avinash | Najbul Hasan Shaik | Tony | Iran Babu Shaik | P Radha Kishan Rao | coke | SIM | pan India | Noor Mohammed Khan | Syed Khaiser Hussain | Syed Rashid Ahmed Khan | C.V | Commissioner’s Task Force | A R. Anirudh | Imran Babu',\n",
       "  'Source_Name': 'The Hindu',\n",
       "  'Source_of_Info': 'Newspaper',\n",
       "  'Web_link_of_news': 'https://www.thehindu.com/news/cities/Hyderabad/police-to-focus-on-drugs-demand-chain-too/article38157619.ece',\n",
       "  'created_date': '2022-01-14 12:00:31',\n",
       "  'exclude': '',\n",
       "  'uuid': '27e925eb-2711-42ba-a293-70af3e31459b'}]"
      ]
     },
     "execution_count": 42,
     "metadata": {},
     "output_type": "execute_result"
    }
   ],
   "source": [
    "results['search_results']"
   ]
  }
 ],
 "metadata": {
  "interpreter": {
   "hash": "072a7d29b7cbc2e45f6dd349b6affb25a9ca8207ee59b08c8833eb390261108a"
  },
  "kernelspec": {
   "display_name": "Python 3.8.10 64-bit ('lucif3r-venv': venv)",
   "language": "python",
   "name": "python3"
  },
  "language_info": {
   "codemirror_mode": {
    "name": "ipython",
    "version": 3
   },
   "file_extension": ".py",
   "mimetype": "text/x-python",
   "name": "python",
   "nbconvert_exporter": "python",
   "pygments_lexer": "ipython3",
   "version": "3.8.10"
  },
  "orig_nbformat": 4
 },
 "nbformat": 4,
 "nbformat_minor": 2
}
