{
 "cells": [
  {
   "cell_type": "code",
   "execution_count": 30,
   "metadata": {},
   "outputs": [],
   "source": [
    "import requests\n",
    "import json"
   ]
  },
  {
   "cell_type": "code",
   "execution_count": 33,
   "metadata": {},
   "outputs": [],
   "source": [
    "# news = requests.get('http://0.0.0.0:5000/adverseapi', json={\n",
    "#     \"api\": \"35622ca4d6fc49c6b811df1e9fc10de4\",\n",
    "#     \"mode\": \"manual\",\n",
    "#     \"date\": \"2022-01-21 13:00:00\"\n",
    "# })\n",
    "news = requests.get('http://0.0.0.0:5000/adverseapi', json={\n",
    "    \"api\": \"35622ca4d6fc49c6b811df1e9fc10de4\",\n",
    "    \"mode\": \"realtime\",\n",
    "    \"keywords\": \"money laundering, forging, terrorism, fraud, Prosecution ,education , CBI,grant , drug arrest, NIA, terror, narcotics,slogans ,sex racket, smuggling, National Investigation Agency, assets, bitcoin, taxes\",\n",
    "    \"exclude\": \"\",\n",
    "    \"excludeorg\": \"\",\n",
    "    \"urltobesearched\": \"https://www.ndtv.com/delhi-news/delhi-woman-posed-as-uk-resident-duped-people-online-police-2737128\"\n",
    "    })\n",
    "results = json.loads(news.text)"
   ]
  },
  {
   "cell_type": "code",
   "execution_count": 34,
   "metadata": {},
   "outputs": [
    {
     "data": {
      "text/plain": [
       "[{'Article_Date': '',\n",
       "  'City_State_mentioned_under_the_news': 'India | West Delhi | Mumbai | Tilak Nagar | Krishna Puri',\n",
       "  'City_of_News_Paper': 'National',\n",
       "  'HDFC_Bank_Name_under_News_Article': 'No',\n",
       "  'Key_word_Used_foruuidentify_the_article': 'fraud',\n",
       "  'Organization_Name_mentioned_in_the_news': 'Representational New Delhi | NDTV | UK Resident | DCP',\n",
       "  'Person_Name_mentioned_in_the_news': 'Emily Rose | Lakshikha Choudhry | Representational New Delhi | Avni Chopra | Avantika Chopra | Dharam Raj | Sagar Singh Kalsi | UK Resident | Anamika Gujral | Amara Gujral | NDTV',\n",
       "  'Source_Name': 'NDTV',\n",
       "  'Source_of_Info': 'Newspaper',\n",
       "  'Web_link_of_news': 'https://www.ndtv.com/delhi-news/delhi-woman-posed-as-uk-resident-duped-people-online-police-2737128',\n",
       "  'created_date': '2022-02-01 12:24:35',\n",
       "  'exclude': '',\n",
       "  'uuid': 'f90e004f-c15b-4f8e-b493-527a23b1c10b'}]"
      ]
     },
     "execution_count": 34,
     "metadata": {},
     "output_type": "execute_result"
    }
   ],
   "source": [
    "results['search_results']"
   ]
  }
 ],
 "metadata": {
  "interpreter": {
   "hash": "072a7d29b7cbc2e45f6dd349b6affb25a9ca8207ee59b08c8833eb390261108a"
  },
  "kernelspec": {
   "display_name": "Python 3.8.10 64-bit ('lucif3r-venv': venv)",
   "language": "python",
   "name": "python3"
  },
  "language_info": {
   "codemirror_mode": {
    "name": "ipython",
    "version": 3
   },
   "file_extension": ".py",
   "mimetype": "text/x-python",
   "name": "python",
   "nbconvert_exporter": "python",
   "pygments_lexer": "ipython3",
   "version": "3.8.10"
  },
  "orig_nbformat": 4
 },
 "nbformat": 4,
 "nbformat_minor": 2
}
