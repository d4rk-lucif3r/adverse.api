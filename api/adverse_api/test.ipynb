{
 "cells": [
  {
   "cell_type": "code",
   "execution_count": 35,
   "metadata": {},
   "outputs": [],
   "source": [
    "import requests\n",
    "import json\n"
   ]
  },
  {
   "cell_type": "code",
   "execution_count": 36,
   "metadata": {},
   "outputs": [],
   "source": [
    "# news = requests.get('http://0.0.0.0:5000/adverseapi', json={\n",
    "#     \"api\": \"35622ca4d6fc49c6b811df1e9fc10de4\",\n",
    "#     \"mode\": \"manual\",\n",
    "#     \"date\": \"2022-01-11 13:00:00\"\n",
    "# })\n",
    "news = requests.get('http://0.0.0.0:5000/adverseapi', json={\n",
    "    \"api\": \"35622ca4d6fc49c6b811df1e9fc10de4\",\n",
    "    \"mode\": \"realtime\",\n",
    "    \"keywords\": \"fraud\",\n",
    "    \"exclude\": \"\",\n",
    "    \"excludeorg\": \"\",\n",
    "    \"urltobesearched\": \"https://timesofindia.indiatimes.com/city/kolkata/fraudsters-use-booster-dose-bait-to-siphon-money-off-bank-accounts/articleshow/88798160.cms\"\n",
    "})\n"
   ]
  },
  {
   "cell_type": "code",
   "execution_count": 37,
   "metadata": {},
   "outputs": [],
   "source": [
    "# news.text"
   ]
  },
  {
   "cell_type": "code",
   "execution_count": 38,
   "metadata": {},
   "outputs": [],
   "source": [
    "results = json.loads(news.text)"
   ]
  },
  {
   "cell_type": "code",
   "execution_count": 39,
   "metadata": {},
   "outputs": [
    {
     "data": {
      "text/plain": [
       "1"
      ]
     },
     "execution_count": 39,
     "metadata": {},
     "output_type": "execute_result"
    }
   ],
   "source": [
    "len(results['search_results'])\n"
   ]
  },
  {
   "cell_type": "code",
   "execution_count": 40,
   "metadata": {},
   "outputs": [
    {
     "data": {
      "text/plain": [
       "{'date_of_response': None,\n",
       " 'exclude': '',\n",
       " 'excludeorg': '',\n",
       " 'keywords_updated': 'narcotics,drug arrest,drug illegal,money launder,plastic money,enforcement directorate,cocain,NIA,Hawala,lauder the money,money laundering,drug smuggle,drug contraband,money-mule,heroin,opium,terror,drug trafficking,terror financing,Central Bureau of Investigation,ganja,siphoned,fraud,CBI,drug confiscate,National Investigation Agency,sex racket,drug seize,smuggling,human trafficking',\n",
       " 'last_updated_time': '2022-01-12 14:45:24',\n",
       " 'mode_of_search': 'realtime',\n",
       " 'news_source_ids': 'c1f4a45b-aa9c-4627-980b-f69509e5c862,a70e9599-4480-46d2-889f-652fdd58cc55,3d4a70cb-fe3f-459e-8cb1-43bc04f759c6,ad60ab7b-906b-467d-b29e-92f200eb88fe,4dfab6d8-8246-469b-9e19-7ddbb55d806d,eeff09cb-6fdb-45f1-a206-32a55320d598,ca3c6507-8c4a-4269-a384-8de06f43bc4f,5b32994e-2e6e-417f-ba44-77f508742349,8cbc9eec-7255-43bf-bb72-2bce4f4764ea,91272662-bb73-4649-a8c2-026d112c190e,8918a789-43f2-4f28-b3b2-6ae508b70c7d,d5ca61f6-a264-4007-b691-68347cad2d3a,833f7333-e06e-4741-b15a-54eb79419b35,ffgg09cb-6gef-45g1-b206-32b55320e598,e6a9f28c-69c7-5198-a6c1-3ab792557722,f5b8g17d-58d6-4087-b5d0-2bc681446611',\n",
       " 'search_results': [{'Article_Date': '',\n",
       "   'City_State_mentioned_under_the_news': 'Kolkata | Odisha | Haryana | Jharkhand | Rajasthan',\n",
       "   'City_of_News_Paper': 'Kolkata',\n",
       "   'HDFC_Bank_Name_under_News_Article': 'No',\n",
       "   'Key_word_Used_foruuidentify_the_article': 'fraud',\n",
       "   'Organization_Name_mentioned_in_the_news': 'MHA | PMO',\n",
       "   'Person_Name_mentioned_in_the_news': 'MHA | PMO',\n",
       "   'Source_Name': 'The Times Of India',\n",
       "   'Source_of_Info': 'Newspaper',\n",
       "   'Web_link_of_news': 'https://timesofindia.indiatimes.com/city/kolkata/fraudsters-use-booster-dose-bait-to-siphon-money-off-bank-accounts/articleshow/88798160.cms',\n",
       "   'created_date': '2022-01-13 06:34:42',\n",
       "   'exclude': '',\n",
       "   'uuid': '37327946-6f7f-43d2-a23d-6ede4dec8850'}]}"
      ]
     },
     "execution_count": 40,
     "metadata": {},
     "output_type": "execute_result"
    }
   ],
   "source": [
    "results\n"
   ]
  }
 ],
 "metadata": {
  "interpreter": {
   "hash": "072a7d29b7cbc2e45f6dd349b6affb25a9ca8207ee59b08c8833eb390261108a"
  },
  "kernelspec": {
   "display_name": "Python 3.8.10 64-bit ('lucif3r-venv': venv)",
   "language": "python",
   "name": "python3"
  },
  "language_info": {
   "codemirror_mode": {
    "name": "ipython",
    "version": 3
   },
   "file_extension": ".py",
   "mimetype": "text/x-python",
   "name": "python",
   "nbconvert_exporter": "python",
   "pygments_lexer": "ipython3",
   "version": "3.8.10"
  },
  "orig_nbformat": 4
 },
 "nbformat": 4,
 "nbformat_minor": 2
}
